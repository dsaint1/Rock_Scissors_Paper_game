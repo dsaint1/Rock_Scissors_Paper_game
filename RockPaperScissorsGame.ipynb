{
 "cells": [
  {
   "cell_type": "code",
   "execution_count": 3,
   "id": "049f0b2d-9b28-439c-be8c-aa0429b504ec",
   "metadata": {},
   "outputs": [
    {
     "name": "stdin",
     "output_type": "stream",
     "text": [
      "select a choice from rock, paper or scissors rock\n"
     ]
    },
    {
     "name": "stdout",
     "output_type": "stream",
     "text": [
      "You lose Paper covers Rock\n"
     ]
    },
    {
     "name": "stdin",
     "output_type": "stream",
     "text": [
      "select a choice from rock, paper or scissors rock\n"
     ]
    },
    {
     "name": "stdout",
     "output_type": "stream",
     "text": [
      "You lose Paper covers Rock\n"
     ]
    },
    {
     "name": "stdin",
     "output_type": "stream",
     "text": [
      "select a choice from rock, paper or scissors Scissors\n"
     ]
    },
    {
     "name": "stdout",
     "output_type": "stream",
     "text": [
      "You win Scissors tears Paper\n"
     ]
    },
    {
     "name": "stdin",
     "output_type": "stream",
     "text": [
      "select a choice from rock, paper or scissors Scissors\n"
     ]
    },
    {
     "name": "stdout",
     "output_type": "stream",
     "text": [
      "You win Scissors tears Paper\n"
     ]
    },
    {
     "name": "stdin",
     "output_type": "stream",
     "text": [
      "select a choice from rock, paper or scissors Paper\n"
     ]
    },
    {
     "name": "stdout",
     "output_type": "stream",
     "text": [
      "It's a tie !!!\n"
     ]
    },
    {
     "name": "stdin",
     "output_type": "stream",
     "text": [
      "select a choice from rock, paper or scissors scissors\n"
     ]
    },
    {
     "name": "stdout",
     "output_type": "stream",
     "text": [
      "You win Scissors tears Paper\n"
     ]
    },
    {
     "name": "stdin",
     "output_type": "stream",
     "text": [
      "select a choice from rock, paper or scissors scissors\n"
     ]
    },
    {
     "name": "stdout",
     "output_type": "stream",
     "text": [
      "You win Scissors tears Paper\n"
     ]
    },
    {
     "name": "stdin",
     "output_type": "stream",
     "text": [
      "select a choice from rock, paper or scissors end\n"
     ]
    },
    {
     "name": "stdout",
     "output_type": "stream",
     "text": [
      "Game Over\n",
      "COMPUTER:2\n",
      "PLAYER:4\n"
     ]
    }
   ],
   "source": [
    "import random\n",
    "choices = [\"Rock\", \"Paper\", \"Scissors\"]\n",
    "computer = random.choice(choices)\n",
    "player = False\n",
    "cpu_score = 0\n",
    "player_score = 0\n",
    "while True:\n",
    "    player = input(\"select a choice from rock, paper or scissors\").capitalize()\n",
    "    if player == computer:\n",
    "        print(\"It's a tie !!!\")\n",
    "        \n",
    "    elif player == \"Rock\":\n",
    "        if computer == \"Paper\":\n",
    "            print (\"You lose\", computer, \"covers\", player)\n",
    "            cpu_score += 1\n",
    "        else:\n",
    "            print (\"You win\", player, \"smashes\", computer)\n",
    "            player_score += 1\n",
    "    \n",
    "    elif player == \"Paper\":\n",
    "        if computer == \"Rock\":\n",
    "            print (\"You win\", player, \"covers\", computer)\n",
    "            player_score +=1\n",
    "        else:\n",
    "            print (\"You lose\", computer, \"shatters and tears\", player)\n",
    "            cpu_score += 1\n",
    "\n",
    "    elif player == \"Scissors\":\n",
    "        if computer == \"Rock\":\n",
    "            print (\"You lose\", computer, \"smashes\", player)\n",
    "            cpu_score += 1\n",
    "        else:\n",
    "            print (\"You win\", player, \"tears\", computer)\n",
    "            player_score += 1\n",
    "            \n",
    "    elif player == \"End\":\n",
    "        print(\"Game Over\")\n",
    "        print(f\"COMPUTER:{cpu_score}\")\n",
    "        print(f\"PLAYER:{player_score}\")\n",
    "        break"
   ]
  },
  {
   "cell_type": "code",
   "execution_count": null,
   "id": "b37d5f5d-497b-45cb-ba55-29b91cc30124",
   "metadata": {},
   "outputs": [],
   "source": []
  }
 ],
 "metadata": {
  "kernelspec": {
   "display_name": "Python 3 (ipykernel)",
   "language": "python",
   "name": "python3"
  },
  "language_info": {
   "codemirror_mode": {
    "name": "ipython",
    "version": 3
   },
   "file_extension": ".py",
   "mimetype": "text/x-python",
   "name": "python",
   "nbconvert_exporter": "python",
   "pygments_lexer": "ipython3",
   "version": "3.11.7"
  }
 },
 "nbformat": 4,
 "nbformat_minor": 5
}
